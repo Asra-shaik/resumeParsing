{
 "cells": [
  {
   "cell_type": "code",
   "execution_count": 2,
   "metadata": {
    "collapsed": false
   },
   "outputs": [
    {
     "name": "stdout",
     "output_type": "stream",
     "text": [
      "Enter the field you wan't to search: address\n",
      "<_sre.SRE_Match object; span=(67, 122), match='ADDRESS: H.No-12-2-830/22/1,RODAMESTRY,JDM, Hyder>\n",
      "Enter 1 to exit:4\n",
      "Enter the field you wan't to search: name\n",
      "<_sre.SRE_Match object; span=(49, 67), match='NAME: SHAIK ASRA.\\n'>\n",
      "Enter 1 to exit:6\n",
      "Enter the field you wan't to search: mobile\n",
      "<_sre.SRE_Match object; span=(122, 141), match='MOBILE: 9700042941\\n'>\n",
      "Enter 1 to exit:f\n",
      "Enter the field you wan't to search: mail\n",
      "<_sre.SRE_Match object; span=(142, 169), match='MAIL: shaikasra2@gmail.com\\n'>\n",
      "Enter 1 to exit:1\n"
     ]
    }
   ],
   "source": [
    "import tika\n",
    "from tika import parser\n",
    "import re\n",
    "while(True):\n",
    "    tika.initVM()\n",
    "    parsed = parser.from_file(\"resume1.docx\")\n",
    "    str=input(\"Enter the field you wan't to search: \")\n",
    "    regular_expression = re.compile(str+r\"[ :]+[\\s]+[ \\r\\t\\f\\v+:;,-/._%+@-a-z0-9]+[ ^\\n]\",re.I)\n",
    "    result = re.search(regular_expression , parsed[\"content\"])\n",
    "    print(result)\n",
    "    i=input(\"Enter 1 to exit:\")\n",
    "    if(i=='1'):\n",
    "        break;"
   ]
  },
  {
   "cell_type": "code",
   "execution_count": null,
   "metadata": {
    "collapsed": true
   },
   "outputs": [],
   "source": []
  }
 ],
 "metadata": {
  "kernelspec": {
   "display_name": "Python 3",
   "language": "python",
   "name": "python3"
  },
  "language_info": {
   "codemirror_mode": {
    "name": "ipython",
    "version": 3
   },
   "file_extension": ".py",
   "mimetype": "text/x-python",
   "name": "python",
   "nbconvert_exporter": "python",
   "pygments_lexer": "ipython3",
   "version": "3.6.0"
  }
 },
 "nbformat": 4,
 "nbformat_minor": 2
}
